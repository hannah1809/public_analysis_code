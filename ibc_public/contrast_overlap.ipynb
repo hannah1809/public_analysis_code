{
 "cells": [
  {
   "cell_type": "code",
   "execution_count": null,
   "metadata": {},
   "outputs": [
    {
     "name": "stdout",
     "output_type": "stream",
     "text": []
    }
   ],
   "source": [
    "# Count the number of contrast maps for each subject\n",
    "\n",
    "import os\n",
    "from collections import defaultdict\n",
    "\n",
    "# Base path to the z-maps\n",
    "base_path = \"/ptmp/hmueller2/Downloads/contrast_maps_fsLR\"\n",
    "print(\"Base path:\", base_path)\n",
    "\n",
    "# Initialize a dictionary to store the count of contrast maps per subject\n",
    "contrast_map_counts = defaultdict(int)\n",
    "\n",
    "# Loop through all subjects and sessions\n",
    "for subject in os.listdir(base_path):\n",
    "    if subject.startswith(\"sub-07\") and subject[4:].isdigit():  # Check subject naming pattern\n",
    "        subject_path = os.path.join(base_path, subject)\n",
    "        print(\"Subject path:\", subject_path)\n",
    "        if os.path.isdir(subject_path):  # Ensure it's a directory\n",
    "            for session in os.listdir(subject_path):\n",
    "                if session.startswith(\"ses-\") and session[4:].isdigit():  # Check session naming pattern\n",
    "                    session_path = os.path.join(subject_path, session)\n",
    "                    # print(\"  Session path:\", session_path)\n",
    "                    if os.path.isdir(session_path):  # Ensure it's a directory\n",
    "                        # Try to find all directories matching the pattern inside the session_path\n",
    "                        for res_dir in os.listdir(session_path):\n",
    "                            if res_dir.startswith(\"res_task-\") and \"fsLR\" in res_dir and \"dir-\" in res_dir:\n",
    "                                res_dir_path = os.path.join(session_path, res_dir)\n",
    "                                print(\"    Res dir path:\", res_dir_path)\n",
    "                                z_score_maps_path = os.path.join(res_dir_path, \"z_score_maps\")\n",
    "                                #print(\"      z_score_maps_path:\", z_score_maps_path)\n",
    "                                if os.path.exists(z_score_maps_path):\n",
    "                                    # Count the number of .dscalar.nii files in the directory\n",
    "                                    contrast_maps = [f for f in os.listdir(z_score_maps_path) if f.endswith(\".dscalar.nii\")]\n",
    "                                    contrast_map_counts[subject] += len(contrast_maps)\n",
    "\n",
    "# Print the results\n",
    "for subject, count in contrast_map_counts.items():\n",
    "    print(f\"Subject {subject}: {count} contrast maps\")"
   ]
  },
  {
   "cell_type": "code",
   "execution_count": null,
   "metadata": {},
   "outputs": [],
   "source": [
    "# Count the number of contrast maps that overlap between all subjects\n",
    "# Initialize a dictionary to store overlap counts\n",
    "overlap_counts = defaultdict(int)\n",
    "\n",
    "# Logic to calculate overlap between subjects will go here"
   ]
  }
 ],
 "metadata": {
  "kernelspec": {
   "display_name": "Python 3",
   "language": "python",
   "name": "python3"
  },
  "language_info": {
   "codemirror_mode": {
    "name": "ipython",
    "version": 3
   },
   "file_extension": ".py",
   "mimetype": "text/x-python",
   "name": "python",
   "nbconvert_exporter": "python",
   "pygments_lexer": "ipython3",
   "version": "3.12.8"
  }
 },
 "nbformat": 4,
 "nbformat_minor": 2
}
